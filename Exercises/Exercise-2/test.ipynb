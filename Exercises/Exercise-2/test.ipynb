{
 "cells": [
  {
   "cell_type": "code",
   "execution_count": 49,
   "metadata": {},
   "outputs": [],
   "source": [
    "import requests\n",
    "import pandas as pd\n",
    "import json\n",
    "from pathlib import Path"
   ]
  },
  {
   "cell_type": "code",
   "execution_count": 3,
   "metadata": {},
   "outputs": [],
   "source": [
    "response = requests.get('https://www.ncei.noaa.gov/data/local-climatological-data/access/2021/')"
   ]
  },
  {
   "cell_type": "code",
   "execution_count": null,
   "metadata": {},
   "outputs": [
    {
     "name": "stdout",
     "output_type": "stream",
     "text": [
      "<tr><td><a href=\"01023199999.csv\">01023199999.csv</a></td><td align=\"right\">2024-01-19 10:27  </td><td align=\"right\">1.0M</td><td>&nbsp;</td></tr>\n"
     ]
    }
   ],
   "source": [
    "for line in response.text.splitlines():\n",
    "    if '01023199999' in line:\n",
    "        print(line)\n",
    "        filename = line.split('\"')[1]\n",
    "        link = f'https://www.ncei.noaa.gov/data/local-climatological-data/access/2021/{filename}'\n",
    "        download = requests.get(link)\n",
    "\n",
    "        output_file = Path(f\"./downloads/{filename}\")\n",
    "        output_file.parent.mkdir(exist_ok=True, parents=True)\n",
    "\n",
    "        with open(output_file, 'wb') as f:\n",
    "            f.write(download.content)\n",
    "\n",
    "        df = pd.read_csv(output_file)\n",
    "\n",
    "\n",
    "    # if '2024-01-19 10:27' in line:\n",
    "    #     print(line)"
   ]
  },
  {
   "cell_type": "code",
   "execution_count": 77,
   "metadata": {},
   "outputs": [
    {
     "name": "stdout",
     "output_type": "stream",
     "text": [
      "      STATION                 DATE  LATITUDE  LONGITUDE  ELEVATION  \\\n",
      "0  1023199999  2021-09-22T12:20:00     64.35        7.8        0.0   \n",
      "\n",
      "          NAME REPORT_TYPE  SOURCE  HourlyAltimeterSetting  \\\n",
      "0  DRAUGEN, NO       FM-15       4                   29.62   \n",
      "\n",
      "   HourlyDewPointTemperature  ...  BackupDirection  BackupDistance  \\\n",
      "0                       45.0  ...              NaN             NaN   \n",
      "\n",
      "  BackupDistanceUnit  BackupElements  BackupElevation  BackupEquipment  \\\n",
      "0                NaN             NaN              NaN              NaN   \n",
      "\n",
      "  BackupLatitude  BackupLongitude  BackupName  WindEquipmentChangeDate  \n",
      "0            NaN              NaN         NaN                      NaN  \n",
      "\n",
      "[1 rows x 125 columns]\n"
     ]
    }
   ],
   "source": [
    "df = pd.read_csv(output_file)\n",
    "\n",
    "# df[df.HourlyDryBulbTemperature == df.max('HourlyDryBulbTemperature')]\n",
    "print(df[df.HourlyDryBulbTemperature == df.HourlyDryBulbTemperature.max()])"
   ]
  },
  {
   "cell_type": "code",
   "execution_count": 73,
   "metadata": {},
   "outputs": [
    {
     "data": {
      "text/plain": [
       "Index(['STATION', 'DATE', 'LATITUDE', 'LONGITUDE', 'ELEVATION', 'NAME',\n",
       "       'REPORT_TYPE', 'SOURCE', 'HourlyAltimeterSetting',\n",
       "       'HourlyDewPointTemperature', 'HourlyDryBulbTemperature',\n",
       "       'HourlyPrecipitation', 'HourlyPresentWeatherType',\n",
       "       'HourlyPressureChange', 'HourlyPressureTendency',\n",
       "       'HourlyRelativeHumidity', 'HourlySkyConditions',\n",
       "       'HourlySeaLevelPressure', 'HourlyStationPressure', 'HourlyVisibility'],\n",
       "      dtype='object')"
      ]
     },
     "execution_count": 73,
     "metadata": {},
     "output_type": "execute_result"
    }
   ],
   "source": [
    "df.columns[:20]"
   ]
  }
 ],
 "metadata": {
  "kernelspec": {
   "display_name": "base",
   "language": "python",
   "name": "python3"
  },
  "language_info": {
   "codemirror_mode": {
    "name": "ipython",
    "version": 3
   },
   "file_extension": ".py",
   "mimetype": "text/x-python",
   "name": "python",
   "nbconvert_exporter": "python",
   "pygments_lexer": "ipython3",
   "version": "3.12.2"
  }
 },
 "nbformat": 4,
 "nbformat_minor": 2
}
